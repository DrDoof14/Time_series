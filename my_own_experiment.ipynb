{
 "cells": [
  {
   "cell_type": "code",
   "execution_count": 26,
   "id": "9bb91863",
   "metadata": {},
   "outputs": [
    {
     "data": {
      "text/html": [
       "<div>\n",
       "<style scoped>\n",
       "    .dataframe tbody tr th:only-of-type {\n",
       "        vertical-align: middle;\n",
       "    }\n",
       "\n",
       "    .dataframe tbody tr th {\n",
       "        vertical-align: top;\n",
       "    }\n",
       "\n",
       "    .dataframe thead th {\n",
       "        text-align: right;\n",
       "    }\n",
       "</style>\n",
       "<table border=\"1\" class=\"dataframe\">\n",
       "  <thead>\n",
       "    <tr style=\"text-align: right;\">\n",
       "      <th></th>\n",
       "      <th>glucose</th>\n",
       "    </tr>\n",
       "    <tr>\n",
       "      <th>dt_idx</th>\n",
       "      <th></th>\n",
       "    </tr>\n",
       "  </thead>\n",
       "  <tbody>\n",
       "    <tr>\n",
       "      <th>2021-09-13 09:40:00</th>\n",
       "      <td>NaN</td>\n",
       "    </tr>\n",
       "    <tr>\n",
       "      <th>2021-09-13 09:45:00</th>\n",
       "      <td>NaN</td>\n",
       "    </tr>\n",
       "    <tr>\n",
       "      <th>2021-09-13 09:50:00</th>\n",
       "      <td>NaN</td>\n",
       "    </tr>\n",
       "    <tr>\n",
       "      <th>2021-09-13 09:55:00</th>\n",
       "      <td>NaN</td>\n",
       "    </tr>\n",
       "    <tr>\n",
       "      <th>2021-09-13 10:00:00</th>\n",
       "      <td>NaN</td>\n",
       "    </tr>\n",
       "    <tr>\n",
       "      <th>...</th>\n",
       "      <td>...</td>\n",
       "    </tr>\n",
       "    <tr>\n",
       "      <th>2021-11-07 23:35:00</th>\n",
       "      <td>NaN</td>\n",
       "    </tr>\n",
       "    <tr>\n",
       "      <th>2021-11-07 23:40:00</th>\n",
       "      <td>NaN</td>\n",
       "    </tr>\n",
       "    <tr>\n",
       "      <th>2021-11-07 23:45:00</th>\n",
       "      <td>NaN</td>\n",
       "    </tr>\n",
       "    <tr>\n",
       "      <th>2021-11-07 23:50:00</th>\n",
       "      <td>NaN</td>\n",
       "    </tr>\n",
       "    <tr>\n",
       "      <th>2021-11-07 23:55:00</th>\n",
       "      <td>NaN</td>\n",
       "    </tr>\n",
       "  </tbody>\n",
       "</table>\n",
       "<p>16012 rows × 1 columns</p>\n",
       "</div>"
      ],
      "text/plain": [
       "                     glucose\n",
       "dt_idx                      \n",
       "2021-09-13 09:40:00      NaN\n",
       "2021-09-13 09:45:00      NaN\n",
       "2021-09-13 09:50:00      NaN\n",
       "2021-09-13 09:55:00      NaN\n",
       "2021-09-13 10:00:00      NaN\n",
       "...                      ...\n",
       "2021-11-07 23:35:00      NaN\n",
       "2021-11-07 23:40:00      NaN\n",
       "2021-11-07 23:45:00      NaN\n",
       "2021-11-07 23:50:00      NaN\n",
       "2021-11-07 23:55:00      NaN\n",
       "\n",
       "[16012 rows x 1 columns]"
      ]
     },
     "execution_count": 26,
     "metadata": {},
     "output_type": "execute_result"
    }
   ],
   "source": [
    "import pandas as pd\n",
    "import datetime\n",
    "import numpy as np\n",
    "from scipy.signal import find_peaks\n",
    "import matplotlib.pyplot as plt\n",
    "from DATA_LOADER.data_loader import DataReader\n",
    "\n",
    "### Load data for one patient\n",
    "# change path \n",
    "# one dataset for each patient\n",
    "# ohio = DataReader(name='ohio', filepath='streamlit_introduction/DATA_LOADER/ohio_data/').read_data()\n",
    "#linux directory : '~/streamlit_introduction/DATA_LOADER/ohio_data/'\n",
    "ohio = DataReader(name='ohio', filepath='DATA_LOADER/ohio_data/').read_data() #new directory \n",
    "### it is a good idea to routinely check all analisys with other patients\n",
    "patient_number = 2 # it can be from 1 to 11\n",
    "df = ohio[patient_number].copy(True)\n",
    "\n",
    "#NOTE: see paper in this folder for columns' meaning\n",
    "\n",
    "\"\"\"\n",
    "- measurement error\n",
    "- lag with respect to real values (5' to 30')\n",
    "- [40,400]\n",
    "- less accurate data around big gaps(hours) of nan values\n",
    "- data less accurate on the higher range\n",
    "\"\"\"\n",
    "\n",
    "# resampling\n",
    "### aligning or summary\n",
    "# see resampling pandas\n",
    "df = df.resample('5min').mean()\n",
    "\n",
    "# for this analysis i keep only the glucose values\n",
    "df = pd.DataFrame(df[['glucose']])\n",
    "\n",
    "# defining target threshold \n",
    "lb = 70\n",
    "ub = 180\n",
    "\n",
    "### data management\n",
    "# one way to manage this data\n",
    "def get_day(df, hypo_night_night_end = '08:00:00'):\n",
    "    \"\"\"\n",
    "    df: a dataframe containing one column for glucose values\n",
    "        and with a datetime index\n",
    "    hypo_night_night_end: timestamp of the END of the 24 hour\n",
    "                        period that i want for each day\n",
    "    \n",
    "    Returns a Generator of pd:Series (288,), every series is a \n",
    "                    different day\n",
    "    \"\"\"\n",
    "    # list all unique dates\n",
    "    udt:list[datetime.date] = list(set(df.index.to_series().dt.date.values))\n",
    "    udt.sort()\n",
    "\n",
    "    for i in range(1, len(udt)-1 -1):\n",
    "        # the 1 and the second -1 are thre because the sereis\n",
    "        # of the first and last dates could contains nan\n",
    "\n",
    "        day_start = pd.Timestamp(udt[i]) + pd.Timedelta(hypo_night_night_end)\n",
    "        day_end = pd.Timestamp(udt[i + 1]) + pd.Timedelta(hypo_night_night_end)\n",
    "\n",
    "        dday = df.loc[day_start:day_end,:] # df containing 289 ROWS of almost a single day*\n",
    "        dday = dday.iloc[:-1] # df containing 288 ROWS of a single day*\n",
    "\n",
    "        yield pd.Series(dday.glucose.values,\n",
    "                        index=pd.date_range(day_start, day_end, freq='5min')[:-1])\n",
    "\n",
    "# alternatively i can create a date object containing all days for easier inspection\n",
    "day_obj = list(get_day(df))\n",
    "# get a single day\n",
    "day_number = 4\n",
    "day_obj[day_number]\n",
    "\n",
    "# or i can work with the whole series \n",
    "df"
   ]
  },
  {
   "cell_type": "markdown",
   "id": "96e14d84",
   "metadata": {},
   "source": [
    "till here, it shows the glucose shit during the day with no peaks and lows identified<br>\n",
    "we have 52 days based on our defenition of days "
   ]
  },
  {
   "cell_type": "code",
   "execution_count": 20,
   "id": "df9a1d2a",
   "metadata": {},
   "outputs": [],
   "source": [
    "#this part of the code finds the peaks and replace the pictures with the old pictures which didn't have any peaks\n",
    "#mentioned on them \n",
    "import pandas as pd\n",
    "# some more plots with peaks identification \n",
    "peaks_list=[]\n",
    "temp=[]\n",
    "# peaks_df = pd.DataFrame(columns=['month', 'day', 'range'])\n",
    "for i, day in enumerate(get_day(df)):\n",
    "#     day = day.reset_index(drop=True)\n",
    "    peaks, _ = find_peaks(day, height=ub, prominence=1, width=6)\n",
    "    temp=[peaks,day[peaks]]\n",
    "    peaks_list.append(temp)#to store the peaks in a list\n",
    "#     plt.plot(day)\n",
    "#     plt.plot(peaks, day[peaks], \"x\")\n",
    "#     plt.plot([180]*len(day), \"--\", color=\"gray\")\n",
    "#     plt.savefig('new_plots/' + f'day_{i}.jpg')\n",
    "#     plt.cla()#this line of the code is so important\n",
    "    #we'll have fucked up figures if we don't write this part "
   ]
  },
  {
   "cell_type": "code",
   "execution_count": 24,
   "id": "56c37a9c",
   "metadata": {},
   "outputs": [],
   "source": [
    "# peaks_list"
   ]
  },
  {
   "cell_type": "markdown",
   "id": "5a8758f0",
   "metadata": {},
   "source": [
    "The above cell is my modified shit the below cell is the one he's wrote "
   ]
  },
  {
   "cell_type": "code",
   "execution_count": 27,
   "id": "ef4915c8",
   "metadata": {},
   "outputs": [
    {
     "data": {
      "image/png": "[encoded data removed]",
      "text/plain": [
       "<Figure size 640x480 with 1 Axes>"
      ]
     },
     "metadata": {},
     "output_type": "display_data"
    }
   ],
   "source": [
    "### finding peaks, lows and visualizations\n",
    "\n",
    "# one basic option to visualize the data \n",
    "for i, day in enumerate(get_day(df)):\n",
    "    plt.cla()\n",
    "    plt.plot(day)\n",
    "    plt.savefig('new_plots/' + f'day_{i}.jpg')\n",
    "\n",
    "# some more plots with peaks identification \n",
    "for i, day in enumerate(get_day(df)):\n",
    "    day = day.reset_index(drop=True)\n",
    "    peaks, _ = find_peaks(day, height=ub, prominence=1, width=6,distance=15)\n",
    "    plt.plot(day)\n",
    "    plt.plot(peaks, day[peaks], \"x\")\n",
    "    plt.plot([180]*len(day), \"--\", color=\"gray\")\n",
    "    plt.savefig('new_plots/' + f'day_{i}.jpg')\n",
    "    plt.cla()"
   ]
  },
  {
   "cell_type": "markdown",
   "id": "7bcceba7",
   "metadata": {},
   "source": [
    "There are other ways to store the peaks, such as a pandas dataframe but perfoming those things are so time consuming"
   ]
  },
  {
   "cell_type": "markdown",
   "id": "ef71e546",
   "metadata": {},
   "source": [
    "<h2>From this part I start experimentig with the lows thing <h2>"
   ]
  },
  {
   "cell_type": "markdown",
   "id": "e6477147",
   "metadata": {},
   "source": [
    "I have days and the goloucouse stuff in a dataframe and also the indexes in below_lb_idx"
   ]
  },
  {
   "cell_type": "markdown",
   "id": "32da1335",
   "metadata": {},
   "source": [
    "This link here explains what's happening in line 7 of the below cell<br>\n",
    "https://stackoverflow.com/questions/44620465/why-did-reset-indexdrop-true-function-unwantedly-remove-column#:~:text=reset_index(drop%3DTrue)%20drops,session%2C%20_worker_id%20was%20a%20column."
   ]
  },
  {
   "cell_type": "code",
   "execution_count": 29,
   "id": "f7600347",
   "metadata": {},
   "outputs": [
    {
     "data": {
      "image/png": "[encoded data removed]",
      "text/plain": [
       "<Figure size 640x480 with 1 Axes>"
      ]
     },
     "metadata": {},
     "output_type": "display_data"
    }
   ],
   "source": [
    "#this cell is the exact one he wrote\n",
    "\n",
    "# same thing for finding lows\n",
    "for i, day in enumerate(get_day(df)):\n",
    "    day = day.reset_index(drop=True)\n",
    "    # FIXED: add .dropna() to day in max(day) bc max(array w nan) = nan\n",
    "    all_lows_idx, _ = find_peaks(-day+max(day.dropna()), prominence=1, width=6,distance=15)\n",
    "    # since hight arg doesn't work with negative \"day\" values\n",
    "    # i remove manually all values above lb\n",
    "    below_lb_idx = []\n",
    "    for low_value, low_idx in zip(day[all_lows_idx], all_lows_idx):\n",
    "        if low_value <= lb:\n",
    "            below_lb_idx.append(low_idx)\n",
    "    plt.plot(day)\n",
    "\n",
    "    plt.plot(below_lb_idx, day[below_lb_idx], \"x\")\n",
    "    plt.plot([lb]*len(day), \"--\", color=\"gray\")\n",
    "    plt.savefig('new_plots/' + f'day_{i}.jpg')\n",
    "    plt.cla()"
   ]
  },
  {
   "cell_type": "markdown",
   "id": "bc303bd5",
   "metadata": {},
   "source": [
    "The below cell is my modified shit the above cell is the one he's wrote "
   ]
  },
  {
   "cell_type": "code",
   "execution_count": 92,
   "id": "704fa60d",
   "metadata": {},
   "outputs": [
    {
     "name": "stdout",
     "output_type": "stream",
     "text": [
      "[]\n"
     ]
    }
   ],
   "source": [
    "#this one is the one I tweaked \n",
    "#this part of the code is used to find the lows \n",
    "#this part of the code performs the same thing for the lows and replace the pictures \n",
    "#have to somehow find the date + the range\n",
    "lb = 70\n",
    "lows_list=[]\n",
    "for i, day in enumerate(get_day(df)):\n",
    "#     day = day.reset_index(drop=True) #to drop the index and store it somewhere (the index is the date)\n",
    "    #he's just made his code complicated \n",
    "    #he dropped the time column and now it's a headache to add the date\n",
    "\n",
    "    # FIXED: add .dropna() to day in max(day) bc max(array w nan) = nan\n",
    "    #cheking for the part that add irrelevant stuff to the list \n",
    "    \n",
    "    all_lows_idx, _ = find_peaks(-day+max(day.dropna()), prominence=1, width=6) #this part does not make stupid stuff\n",
    "\n",
    "    # since hight arg doesn't work with negative \"day\" values\n",
    "    # i remove manually all values above lb\n",
    "    below_lb_idx = []\n",
    "    for low_value, low_idx in zip(day[all_lows_idx], all_lows_idx):\n",
    "        if low_value <= lb:\n",
    "            below_lb_idx.append(low_idx) #belows_lb_idx (this fucking variable has so many problems)\n",
    "            \n",
    "#     temp_low=[day[below_lb_idx],low_idx]\n",
    "#     lows_list.append(temp_low)\n",
    "    plt.plot(day)\n",
    "    plt.plot(below_lb_idx, day[below_lb_idx], \"x\")\n",
    "    plt.plot([lb]*len(day), \"--\", color=\"gray\")\n",
    "    plt.savefig('new_plots/' + f'day_{i}.jpg')\n",
    "    plt.cla()"
   ]
  },
  {
   "cell_type": "markdown",
   "id": "92eb033b",
   "metadata": {},
   "source": [
    "<h3>The final code that gives the required info for the low part (task1)</h3> <br>\n",
    "<h3> but it has to be tweaked again, it still has some problems</h3>"
   ]
  },
  {
   "cell_type": "code",
   "execution_count": 63,
   "id": "5ad5e8a5",
   "metadata": {},
   "outputs": [],
   "source": [
    "#the code that gives date + range of the goloucse shit + the value of the goloucse \n",
    "#it's just the cell above without the comments and shit \n",
    "lb = 70\n",
    "lows_list=[]\n",
    "for i, day in enumerate(get_day(df)):\n",
    "    #cheking for the part that add irrelevant stuff to the list \n",
    "    \n",
    "    all_lows_idx, _ = find_peaks(-day+max(day.dropna()), prominence=1, width=6) #this part does not make stupid stuff\n",
    "\n",
    "    below_lb_idx = []\n",
    "    for low_value, low_idx in zip(day[all_lows_idx], all_lows_idx):\n",
    "        if low_value <= lb:\n",
    "            below_lb_idx.append(low_idx) #belows_lb_idx (this fucking variable has so many problems)\n",
    "            temp_low=[day[below_lb_idx],low_idx]\n",
    "            lows_list.append(temp_low)"
   ]
  },
  {
   "cell_type": "code",
   "execution_count": 30,
   "id": "8fe0adc5",
   "metadata": {},
   "outputs": [],
   "source": [
    "# lows_list\n",
    "#if I use the [whatever][0] it'll give date and time and if I use [whatever][1] is gives the range"
   ]
  },
  {
   "cell_type": "code",
   "execution_count": 31,
   "id": "4301e102",
   "metadata": {},
   "outputs": [],
   "source": [
    "# #gives me the ranges\n",
    "# ranges=[]\n",
    "# for i in range(len(lows_list)):\n",
    "#     temp=lows_list[i][1]\n",
    "#     ranges.append(temp)\n",
    "# print(ranges)"
   ]
  },
  {
   "cell_type": "code",
   "execution_count": 32,
   "id": "34f77c58",
   "metadata": {},
   "outputs": [],
   "source": [
    "# strshit=str(lows_list[0][0])\n",
    "# strshit=strshit.split(' ')\n",
    "# strshit=strshit[0].split('-')\n",
    "# date=[]\n",
    "# date.append(strshit[1]) \n",
    "# date.append(strshit[2]) \n",
    "# date\n",
    "\n",
    "# print(date[0]+ \" \" + date[1]+\" \" +str(ranges[0]))"
   ]
  },
  {
   "cell_type": "markdown",
   "id": "126b3462",
   "metadata": {},
   "source": [
    "<h3>The cell below has the final code for the first task</h3>"
   ]
  },
  {
   "cell_type": "code",
   "execution_count": 22,
   "id": "52630fa5",
   "metadata": {},
   "outputs": [],
   "source": [
    "#lb = 70\n",
    "\n",
    "def show_low_dates_ranges(lb,flag):\n",
    "    #flag = 0 -> shows the data in the required format \n",
    "    #flag = 1 -> returns a list of lists containing the data that might be used later (like for a function or something)\n",
    "    lows_list=[]\n",
    "    for i, day in enumerate(get_day(df)):\n",
    "        all_lows_idx, _ = find_peaks(-day+max(day.dropna()), prominence=1, width=6) \n",
    "        below_lb_idx = []\n",
    "        for low_value, low_idx in zip(day[all_lows_idx], all_lows_idx):\n",
    "            if low_value <= lb:\n",
    "                below_lb_idx.append(low_idx) \n",
    "                temp_low=[day[below_lb_idx],low_idx]\n",
    "                lows_list.append(temp_low)\n",
    "    \n",
    "    date_range=[]\n",
    "    \n",
    "    for i in range(len(lows_list)):#not the smartest way but it works\n",
    "        temp2=[]\n",
    "        temp=str(lows_list[i][0])\n",
    "        temp=temp.split(' ')\n",
    "        temp=temp[0].split('-')\n",
    "        #temp = ['2021', '09', '17'] # an example data  \n",
    "        temp2.append(temp[1])\n",
    "        temp2.append(temp[2])\n",
    "        #['09', '17'] # an example data  \n",
    "        temp=str(lows_list[i][1])\n",
    "        temp2.append(temp)\n",
    "        #temp2=['09', '17', '54'] # an example data  \n",
    "        date_range.append(temp2)\n",
    "        #date_range = [['09', '17', '54']] # an example data\n",
    "    if flag == 0:\n",
    "        for i in range(len(date_range)):\n",
    "            print(date_range[i][0]+ \" \"+date_range[i][1]+\" \"+date_range[i][2])\n",
    "    elif flag == 1:\n",
    "        return date_range\n",
    "    #all the required data is stored in date_range list for further use "
   ]
  },
  {
   "cell_type": "code",
   "execution_count": 33,
   "id": "7aa2d052",
   "metadata": {},
   "outputs": [],
   "source": [
    "# show_low_dates_ranges(70,0)"
   ]
  },
  {
   "cell_type": "markdown",
   "id": "56058265",
   "metadata": {},
   "source": [
    "<h3>It's the end of task 1, from now on I start to experiment with other tasks, whatever that's been added after the line<br> is either task 2 or the rest of the code he's wrote which will be after the line 145</h3>"
   ]
  },
  {
   "cell_type": "markdown",
   "id": "141c20c2",
   "metadata": {},
   "source": [
    "========================================================================================================================"
   ]
  },
  {
   "cell_type": "markdown",
   "id": "2d65f58b",
   "metadata": {},
   "source": [
    "<h3>The cells belows are codes written by him </h3>"
   ]
  },
  {
   "cell_type": "code",
   "execution_count": 35,
   "id": "a017c81b",
   "metadata": {},
   "outputs": [
    {
     "data": {
      "image/png": "[encoded data removed]",
      "text/plain": [
       "<Figure size 640x480 with 1 Axes>"
      ]
     },
     "metadata": {},
     "output_type": "display_data"
    }
   ],
   "source": [
    "# plot high and lows, save the plot\n",
    "for i, day in enumerate(get_day(df)):\n",
    "    date = day.index[0].date()\n",
    "    day = day.reset_index(drop=True)\n",
    "    peaks, _ = find_peaks(day, height=180, prominence=1, width=6,distance=15)\n",
    "    all_lows_idx, _ = find_peaks(-day+max(day.dropna()), prominence=1, width=6,distance=15)\n",
    "    below_lb_idx = []\n",
    "    for low_value, low_idx in zip(day[all_lows_idx], all_lows_idx):\n",
    "        if low_value <= lb:\n",
    "            below_lb_idx.append(low_idx)\n",
    "    plt.plot(day)\n",
    "    plt.plot(below_lb_idx, day[below_lb_idx], \"x\")\n",
    "    plt.plot(peaks, day[peaks], \"x\")\n",
    "    plt.plot([ub]*len(day), \"--\", color=\"gray\")\n",
    "    plt.plot([lb]*len(day), \"--\", color=\"gray\")\n",
    "    plt.savefig('new_plots/' + f'day_{date}.jpg')\n",
    "    plt.cla()"
   ]
  },
  {
   "cell_type": "markdown",
   "id": "7d469e5f",
   "metadata": {},
   "source": [
    "<h3>till here, highs and lows are found and added to the plots, that's all</h3>"
   ]
  },
  {
   "cell_type": "markdown",
   "id": "17e79d97",
   "metadata": {},
   "source": [
    "<h3> My experiments for  Task 2  </h3>"
   ]
  },
  {
   "cell_type": "code",
   "execution_count": 14,
   "id": "c8edcded",
   "metadata": {},
   "outputs": [
    {
     "data": {
      "image/png": "[encoded data removed]",
      "text/plain": [
       "<Figure size 640x480 with 1 Axes>"
      ]
     },
     "metadata": {},
     "output_type": "display_data"
    }
   ],
   "source": [
    "#here we have smoothing method\n",
    "#it has some problems\n",
    "#they are visible in the first pictures in the new_plots folder \n",
    "# we can smooth the line \n",
    "### some problems with this method\n",
    "# see other file now \n",
    "\n",
    "### smoothing \n",
    "\n",
    "# we can smooth the line\n",
    "def smooth(y, box_pts):\n",
    "    box = np.ones(box_pts)/box_pts\n",
    "    y_smooth = np.convolve(y, box, mode='same')\n",
    "    return y_smooth\n",
    "\n",
    "for i, day in enumerate(get_day(df)):\n",
    "    plt.plot(day,'o')\n",
    "    plt.plot(day.index, \n",
    "        smooth(day,3), 'r-', lw=2) #red\n",
    "    plt.plot(day.index, \n",
    "        smooth(day,19), 'g-', lw=2)#green\n",
    "    plt.savefig('new_plots/' + f'day_{i}.jpg')\n",
    "    plt.cla()"
   ]
  },
  {
   "cell_type": "markdown",
   "id": "c3340293",
   "metadata": {},
   "source": [
    "The cell above is written by him, the other cells are written by my till the \"===\" thingy"
   ]
  },
  {
   "cell_type": "code",
   "execution_count": null,
   "id": "6b00c953",
   "metadata": {},
   "outputs": [],
   "source": [
    "# I can either use smoothing or use the find peaks method in a better way"
   ]
  },
  {
   "cell_type": "markdown",
   "id": "8777908e",
   "metadata": {},
   "source": [
    "<h3>Task 2 is finished, just had to choose a value for the argument distance in the find_peaks function</h3>"
   ]
  },
  {
   "cell_type": "code",
   "execution_count": null,
   "id": "9e00a7ab",
   "metadata": {},
   "outputs": [],
   "source": []
  },
  {
   "cell_type": "code",
   "execution_count": null,
   "id": "b4d67f79",
   "metadata": {},
   "outputs": [],
   "source": []
  },
  {
   "cell_type": "code",
   "execution_count": null,
   "id": "372f164c",
   "metadata": {},
   "outputs": [],
   "source": []
  },
  {
   "cell_type": "markdown",
   "id": "81afa579",
   "metadata": {},
   "source": [
    "=====================================================================================================\n"
   ]
  },
  {
   "cell_type": "code",
   "execution_count": null,
   "id": "1fc98943",
   "metadata": {},
   "outputs": [],
   "source": [
    "# another example of finding all lows that start from a previous high point\n",
    "\n",
    "df_smooth = df.copy(True)\n",
    "df_smooth['glucose'] = smooth(df['glucose'], 3)\n",
    "\n",
    "for day_id, day in enumerate(get_day(df_smooth)):\n",
    "    # here i work with integer index of the series\n",
    "    day.reset_index(drop=True, inplace=True)\n",
    "\n",
    "    # get high and low idx\n",
    "    high_idxs, _ = find_peaks(day, height=ub, prominence=1, width=6)\n",
    "    low_idxs, _ = find_peaks(-day+max(day.dropna()), prominence=1, width=6)\n",
    "\n",
    "    # merge all idx ( high and low) and sort them\n",
    "    all_idxs = [] # list of indexes\n",
    "    all_idxs.extend(high_idxs)\n",
    "    all_idxs.extend(low_idxs)\n",
    "    all_idxs.sort()\n",
    "\n",
    "    # track if the index corresponds to a low or a high\n",
    "    occurrence = [] # 'L' or 'H'\n",
    "    for idx in all_idxs:\n",
    "        if idx in high_idxs:\n",
    "            occurrence.append('H')\n",
    "        else:\n",
    "            occurrence.append('L')\n",
    "\n",
    "    # find every pair of indicies that follow this rule:\n",
    "    # a high followed by a low & \n",
    "    # high value - low value > threshold ( here threshold = ub - lb)\n",
    "    high_low_pairs_idx:'list[tuple]' = [] # [(high_idx, low_idx),(high_idx, low_idx), ... ]\n",
    "    i = 0\n",
    "    # -1 bc i work with base 0 idx\n",
    "    while i < len(occurrence)-1:\n",
    "        if occurrence[i] == 'H' and occurrence[i+1] == 'L':\n",
    "            high_idx = all_idxs[i]\n",
    "            low_idx = all_idxs[i+1]\n",
    "            high_val = day.iloc[high_idx]\n",
    "            low_val = day.iloc[low_idx]\n",
    "\n",
    "            if high_val - low_val > ub - lb:\n",
    "                high_low_pairs_idx.append((high_idx, low_idx))\n",
    "                i += 1\n",
    "            else:\n",
    "                i += 1\n",
    "        else:\n",
    "            i += 1\n",
    "\n",
    "    # plotting\n",
    "    plt.plot(day)\n",
    "    if high_low_pairs_idx:\n",
    "        for event in high_low_pairs_idx:\n",
    "            drop_event = day.iloc[event[0]:event[1]]\n",
    "            start = drop_event.head(1).index\n",
    "            end = drop_event.tail(1).index\n",
    "            plt.plot(drop_event.index, drop_event, 'r-', lw=2)\n",
    "    plt.savefig('new_plots/' + f'day_{day_id}.jpg')\n",
    "    plt.cla()\n",
    "    print(day_id)"
   ]
  }
 ],
 "metadata": {
  "kernelspec": {
   "display_name": "Python 3 (ipykernel)",
   "language": "python",
   "name": "python3"
  },
  "language_info": {
   "codemirror_mode": {
    "name": "ipython",
    "version": 3
   },
   "file_extension": ".py",
   "mimetype": "text/x-python",
   "name": "python",
   "nbconvert_exporter": "python",
   "pygments_lexer": "ipython3",
   "version": "3.9.7"
  },
  "vscode": {
   "interpreter": {
    "hash": "31f2aee4e71d21fbe5cf8b01ff0e069b9275f58929596ceb00d14d90e3e16cd6"
   }
  }
 },
 "nbformat": 4,
 "nbformat_minor": 5
}
